{
  "nbformat": 4,
  "nbformat_minor": 0,
  "metadata": {
    "colab": {
      "provenance": [],
      "gpuType": "T4",
      "authorship_tag": "ABX9TyNrrqyj3Dv0lnuOnrFp/jlf",
      "include_colab_link": true
    },
    "kernelspec": {
      "name": "python3",
      "display_name": "Python 3"
    },
    "language_info": {
      "name": "python"
    },
    "accelerator": "GPU"
  },
  "cells": [
    {
      "cell_type": "markdown",
      "metadata": {
        "id": "view-in-github",
        "colab_type": "text"
      },
      "source": [
        "<a href=\"https://colab.research.google.com/github/DL-NgocSon/CNNImgClassifier/blob/main/ClassifierwithMNIST.ipynb\" target=\"_parent\"><img src=\"https://colab.research.google.com/assets/colab-badge.svg\" alt=\"Open In Colab\"/></a>"
      ]
    },
    {
      "cell_type": "code",
      "execution_count": 1,
      "metadata": {
        "colab": {
          "base_uri": "https://localhost:8080/"
        },
        "id": "MX3xZT3NXAoR",
        "outputId": "4699e6ea-db57-41c8-f1e7-c0b16279bc6c"
      },
      "outputs": [
        {
          "output_type": "stream",
          "name": "stdout",
          "text": [
            "Cloning into 'CNNImgClassifier'...\n",
            "remote: Enumerating objects: 351, done.\u001b[K\n",
            "remote: Counting objects: 100% (4/4), done.\u001b[K\n",
            "remote: Compressing objects: 100% (4/4), done.\u001b[K\n",
            "remote: Total 351 (delta 0), reused 4 (delta 0), pack-reused 347\u001b[K\n",
            "Receiving objects: 100% (351/351), 70.03 MiB | 38.83 MiB/s, done.\n",
            "Resolving deltas: 100% (14/14), done.\n"
          ]
        }
      ],
      "source": [
        "!git clone https://github.com/DL-NgocSon/CNNImgClassifier.git"
      ]
    },
    {
      "cell_type": "code",
      "source": [
        "from keras.models import Sequential\n",
        "from keras.layers import Dense, Dropout, Activation, Flatten\n",
        "from keras.layers import Conv2D, MaxPooling2D\n",
        "from keras.utils import to_categorical\n",
        "from keras.datasets import mnist\n",
        "from keras.metrics import Accuracy\n",
        "import numpy as np\n",
        "import matplotlib.pyplot as plt"
      ],
      "metadata": {
        "id": "bvtBVkYrXa59"
      },
      "execution_count": 2,
      "outputs": []
    },
    {
      "cell_type": "code",
      "source": [
        "(X_, y_), (X_test, y_test) = mnist.load_data()\n",
        "# Create Train dataset\n",
        "X_train = X_[:50000, :]\n",
        "print(X_train.shape)\n",
        "y_train = y_[:50000]\n",
        "print(y_train.shape)\n",
        "# Create Val dataset\n",
        "X_val = X_[50000:60000, :]\n",
        "print(X_val.shape)\n",
        "y_val = y_[50000:60000]\n",
        "print(y_val.shape)"
      ],
      "metadata": {
        "colab": {
          "base_uri": "https://localhost:8080/"
        },
        "id": "o_90S4W0XoKr",
        "outputId": "bcdc527f-ea73-4ee1-b85b-4663a67878af"
      },
      "execution_count": 3,
      "outputs": [
        {
          "output_type": "stream",
          "name": "stdout",
          "text": [
            "Downloading data from https://storage.googleapis.com/tensorflow/tf-keras-datasets/mnist.npz\n",
            "11490434/11490434 [==============================] - 0s 0us/step\n",
            "(50000, 28, 28)\n",
            "(50000,)\n",
            "(10000, 28, 28)\n",
            "(10000,)\n"
          ]
        }
      ]
    },
    {
      "cell_type": "code",
      "source": [
        "X_train = X_train.reshape(X_train.shape[0], 28, 28, 1)\n",
        "X_val = X_val.reshape(X_val.shape[0], 28, 28, 1)\n",
        "X_test = X_test.reshape(X_test.shape[0], 28, 28, 1)"
      ],
      "metadata": {
        "id": "Wc9HOT8RXrD0"
      },
      "execution_count": 4,
      "outputs": []
    },
    {
      "cell_type": "code",
      "source": [
        "y_train_onehot = to_categorical(y_train, 10)\n",
        "y_val_onehot = to_categorical(y_val, 10)\n",
        "y_test_onehot = to_categorical(y_test, 10)"
      ],
      "metadata": {
        "id": "R0nwOkkKXua1"
      },
      "execution_count": 5,
      "outputs": []
    },
    {
      "cell_type": "code",
      "source": [
        "model = Sequential()"
      ],
      "metadata": {
        "id": "uuKLeo3rXxgM"
      },
      "execution_count": 6,
      "outputs": []
    },
    {
      "cell_type": "code",
      "source": [
        "# Thêm lớp Convolutional với 32 kernel có size 3*3.\n",
        "# Dùng hàm sigmoid làm activation, ảnh đầu vào có kích thước là 28*28\n",
        "model.add(Conv2D(32, (3, 3), activation='sigmoid', input_shape = (28,28,1)))"
      ],
      "metadata": {
        "id": "yeK4eO96X1Dy"
      },
      "execution_count": 7,
      "outputs": []
    },
    {
      "cell_type": "code",
      "source": [
        "# Thêm lớp Convolutional với 32 kernel có size 3*3.\n",
        "model.add(Conv2D(32, (3, 3), activation='sigmoid'))"
      ],
      "metadata": {
        "id": "Stk_DSNWX5lX"
      },
      "execution_count": 8,
      "outputs": []
    },
    {
      "cell_type": "code",
      "source": [
        "# Thêm lớp Maxpooling\n",
        "model.add(MaxPooling2D(pool_size=(2, 2)))\n"
      ],
      "metadata": {
        "id": "OYl4LMP0X8Sx"
      },
      "execution_count": 9,
      "outputs": []
    },
    {
      "cell_type": "code",
      "source": [
        "# Flatten layer chuyển từ tensor sang vector\n",
        "model.add(Flatten())"
      ],
      "metadata": {
        "id": "gwyzrDk5X-Qs"
      },
      "execution_count": 10,
      "outputs": []
    },
    {
      "cell_type": "code",
      "source": [
        "# Thêm Fully Connected layer với 128 nodes và dùng hàm sigmoid\n",
        "model.add(Dense(128, activation='sigmoid'))"
      ],
      "metadata": {
        "id": "dZzWELdBYBC8"
      },
      "execution_count": 11,
      "outputs": []
    },
    {
      "cell_type": "code",
      "source": [
        "# Thêm Fully Connected layer với 10 nodes và dùng hàm softmax\n",
        "model.add(Dense(10, activation='softmax'))"
      ],
      "metadata": {
        "id": "Dhwld6iPYDX3"
      },
      "execution_count": 12,
      "outputs": []
    },
    {
      "cell_type": "code",
      "source": [
        "model.compile(loss='categorical_crossentropy', optimizer='adam', metrics=['Accuracy'])"
      ],
      "metadata": {
        "id": "IGq-9JorYFUq"
      },
      "execution_count": 14,
      "outputs": []
    },
    {
      "cell_type": "code",
      "source": [
        "model.summary()"
      ],
      "metadata": {
        "colab": {
          "base_uri": "https://localhost:8080/"
        },
        "id": "UFNqVyG4YNPu",
        "outputId": "401de587-b93d-4132-97b2-c4480d71c152"
      },
      "execution_count": 15,
      "outputs": [
        {
          "output_type": "stream",
          "name": "stdout",
          "text": [
            "Model: \"sequential\"\n",
            "_________________________________________________________________\n",
            " Layer (type)                Output Shape              Param #   \n",
            "=================================================================\n",
            " conv2d (Conv2D)             (None, 26, 26, 32)        320       \n",
            "                                                                 \n",
            " conv2d_1 (Conv2D)           (None, 24, 24, 32)        9248      \n",
            "                                                                 \n",
            " max_pooling2d (MaxPooling2  (None, 12, 12, 32)        0         \n",
            " D)                                                              \n",
            "                                                                 \n",
            " flatten (Flatten)           (None, 4608)              0         \n",
            "                                                                 \n",
            " dense (Dense)               (None, 128)               589952    \n",
            "                                                                 \n",
            " dense_1 (Dense)             (None, 10)                1290      \n",
            "                                                                 \n",
            "=================================================================\n",
            "Total params: 600810 (2.29 MB)\n",
            "Trainable params: 600810 (2.29 MB)\n",
            "Non-trainable params: 0 (0.00 Byte)\n",
            "_________________________________________________________________\n"
          ]
        }
      ]
    },
    {
      "cell_type": "code",
      "source": [
        "H = model.fit(X_train, y_train_onehot, validation_data=(X_val, y_val_onehot), batch_size=32, epochs=10, verbose=1)"
      ],
      "metadata": {
        "colab": {
          "base_uri": "https://localhost:8080/"
        },
        "id": "U9KW9hxbYPHv",
        "outputId": "11ed27ac-5898-4e87-f20e-2858ffe03f84"
      },
      "execution_count": 16,
      "outputs": [
        {
          "output_type": "stream",
          "name": "stdout",
          "text": [
            "Epoch 1/10\n",
            "1563/1563 [==============================] - 12s 5ms/step - loss: 0.2922 - Accuracy: 0.9150 - val_loss: 0.0693 - val_Accuracy: 0.9813\n",
            "Epoch 2/10\n",
            "1563/1563 [==============================] - 7s 4ms/step - loss: 0.0564 - Accuracy: 0.9834 - val_loss: 0.0510 - val_Accuracy: 0.9858\n",
            "Epoch 3/10\n",
            "1563/1563 [==============================] - 7s 5ms/step - loss: 0.0365 - Accuracy: 0.9889 - val_loss: 0.0472 - val_Accuracy: 0.9864\n",
            "Epoch 4/10\n",
            "1563/1563 [==============================] - 6s 4ms/step - loss: 0.0253 - Accuracy: 0.9927 - val_loss: 0.0392 - val_Accuracy: 0.9892\n",
            "Epoch 5/10\n",
            "1563/1563 [==============================] - 10s 6ms/step - loss: 0.0161 - Accuracy: 0.9958 - val_loss: 0.0445 - val_Accuracy: 0.9867\n",
            "Epoch 6/10\n",
            "1563/1563 [==============================] - 11s 7ms/step - loss: 0.0118 - Accuracy: 0.9968 - val_loss: 0.0440 - val_Accuracy: 0.9885\n",
            "Epoch 7/10\n",
            "1563/1563 [==============================] - 11s 7ms/step - loss: 0.0081 - Accuracy: 0.9980 - val_loss: 0.0421 - val_Accuracy: 0.9878\n",
            "Epoch 8/10\n",
            "1563/1563 [==============================] - 6s 4ms/step - loss: 0.0057 - Accuracy: 0.9986 - val_loss: 0.0418 - val_Accuracy: 0.9879\n",
            "Epoch 9/10\n",
            "1563/1563 [==============================] - 8s 5ms/step - loss: 0.0043 - Accuracy: 0.9990 - val_loss: 0.0420 - val_Accuracy: 0.9883\n",
            "Epoch 10/10\n",
            "1563/1563 [==============================] - 6s 4ms/step - loss: 0.0037 - Accuracy: 0.9991 - val_loss: 0.0442 - val_Accuracy: 0.9889\n"
          ]
        }
      ]
    },
    {
      "cell_type": "code",
      "source": [
        "fig = plt.figure()\n",
        "numOfEpoch = 10\n",
        "plt.plot(np.arange(0, numOfEpoch), H.history['loss'], label ='training_loss', color = 'red')\n",
        "plt.plot(np.arange(0, numOfEpoch), H.history['val_loss'], label ='val_loss', color = 'green')\n",
        "plt.plot(np.arange(0, numOfEpoch), H.history['Accuracy'], label ='accuracy', color = 'blue')\n",
        "plt.plot(np.arange(0, numOfEpoch), H.history['val_Accuracy'], label ='val_accuracy', color = 'teal')\n",
        "plt.title(\"Accuracy and Loss\")\n",
        "plt.xlabel(\"Epochs\")\n",
        "plt.ylabel(\"Accuracy | Loss\")\n",
        "fig.suptitle('Loss', fontsize = 20)\n",
        "plt.legend(loc=\"upper right\")\n",
        "plt.show()"
      ],
      "metadata": {
        "colab": {
          "base_uri": "https://localhost:8080/",
          "height": 497
        },
        "id": "JAlG-JFDYarM",
        "outputId": "0bdeb60a-4c73-417a-9a7a-34d6a2d68df0"
      },
      "execution_count": 19,
      "outputs": [
        {
          "output_type": "display_data",
          "data": {
            "text/plain": [
              "<Figure size 640x480 with 1 Axes>"
            ],
            "image/png": "[encoded data removed]"
          },
          "metadata": {}
        }
      ]
    },
    {
      "cell_type": "code",
      "source": [
        "plt.imshow(X_test[4].reshape(28,28), cmap='gray')\n",
        "y_predict = model.predict(X_test[4].reshape(1,28,28,1))\n",
        "print('Giá trị dự đoán: ', np.argmax(y_predict))\n"
      ],
      "metadata": {
        "colab": {
          "base_uri": "https://localhost:8080/",
          "height": 466
        },
        "id": "_5T_---RZCvB",
        "outputId": "89b94aa8-436b-43f5-973f-80f4fd3cb6af"
      },
      "execution_count": 21,
      "outputs": [
        {
          "output_type": "stream",
          "name": "stdout",
          "text": [
            "1/1 [==============================] - 0s 17ms/step\n",
            "Giá trị dự đoán:  4\n"
          ]
        },
        {
          "output_type": "display_data",
          "data": {
            "text/plain": [
              "<Figure size 640x480 with 1 Axes>"
            ],
            "image/png": "[encoded data removed]"
          },
          "metadata": {}
        }
      ]
    },
    {
      "cell_type": "code",
      "source": [],
      "metadata": {
        "id": "CWQrZzzUZMrs"
      },
      "execution_count": null,
      "outputs": []
    }
  ]
}